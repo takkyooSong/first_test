{
 "cells": [
  {
   "cell_type": "code",
   "execution_count": 1,
   "id": "a17ba5c0",
   "metadata": {},
   "outputs": [
    {
     "name": "stdout",
     "output_type": "stream",
     "text": [
      "vs code\n"
     ]
    }
   ],
   "source": [
    "print(\"vs code\")"
   ]
  },
  {
   "cell_type": "code",
   "execution_count": 2,
   "id": "b06eb252",
   "metadata": {},
   "outputs": [
    {
     "name": "stdout",
     "output_type": "stream",
     "text": [
      "Hello vs code\n"
     ]
    }
   ],
   "source": [
    "\n",
    "print(\"Hello vs code\")"
   ]
  },
  {
   "cell_type": "code",
   "execution_count": null,
   "id": "4f5276ed",
   "metadata": {},
   "outputs": [],
   "source": []
  }
 ],
 "metadata": {
  "kernelspec": {
   "display_name": "Python 3",
   "language": "python",
   "name": "python3"
  },
  "language_info": {
   "codemirror_mode": {
    "name": "ipython",
    "version": 3
   },
   "file_extension": ".py",
   "mimetype": "text/x-python",
   "name": "python",
   "nbconvert_exporter": "python",
   "pygments_lexer": "ipython3",
   "version": "3.11.8"
  }
 },
 "nbformat": 4,
 "nbformat_minor": 5
}
